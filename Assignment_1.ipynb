{
 "cells": [
  {
   "cell_type": "markdown",
   "id": "14f77e93-c5f5-4f3d-a1eb-e8d8d9a8398e",
   "metadata": {},
   "source": [
    "Q1. Explain with an example each when to use a for loop and a while loop."
   ]
  },
  {
   "cell_type": "markdown",
   "id": "07a140c6-5b6b-49c7-83ac-95a9b124ee95",
   "metadata": {},
   "source": [
    "Ans. The work of both loop are same but when\n",
    "we know the termination point(end point) we can use a for loop and we evaluate using range and data are in sequence or order\n",
    "but if we have no idea about the termination point we usa a while loop and operation on a data out of order or when we given a condition because it terminate when the condition return false.\n",
    "Example :\n",
    "for loop -->\n",
    "To calculate factorial of a number "
   ]
  },
  {
   "cell_type": "code",
   "execution_count": 8,
   "id": "828891d4-e797-4256-924b-342d9030803e",
   "metadata": {},
   "outputs": [
    {
     "name": "stdin",
     "output_type": "stream",
     "text": [
      "Enter the Number whose factorial you want to find =  5\n"
     ]
    },
    {
     "data": {
      "text/plain": [
       "125"
      ]
     },
     "execution_count": 8,
     "metadata": {},
     "output_type": "execute_result"
    }
   ],
   "source": [
    "number = int(input(\"Enter the Number whose factorial you want to find = \"))\n",
    "factorial = 1\n",
    "for i in range(1,number -1):\n",
    "    factorial = factorial*number\n",
    "factorial"
   ]
  },
  {
   "cell_type": "markdown",
   "id": "dc16d98a-9240-4c0e-b706-2b9d3fe5311b",
   "metadata": {},
   "source": [
    "Example : While loop -->"
   ]
  },
  {
   "cell_type": "code",
   "execution_count": 9,
   "id": "82f0e395-e1fd-46cd-982c-0a8b0d918088",
   "metadata": {},
   "outputs": [
    {
     "name": "stdin",
     "output_type": "stream",
     "text": [
      "Enter the number for fibbo 13\n"
     ]
    },
    {
     "name": "stdout",
     "output_type": "stream",
     "text": [
      "0\n",
      "1\n",
      "1\n",
      "2\n",
      "3\n",
      "5\n",
      "8\n",
      "13\n",
      "21\n",
      "34\n",
      "55\n",
      "89\n",
      "144\n"
     ]
    }
   ],
   "source": [
    "n = int(input(\"Enter the number for fibbo\"))\n",
    "a , b = 0 , 1\n",
    "counter = 0\n",
    "while counter< n:\n",
    "    print(a)\n",
    "    c = a+b\n",
    "    a=b\n",
    "    b=c\n",
    "    counter =counter +1"
   ]
  },
  {
   "cell_type": "markdown",
   "id": "a8c4642a-c205-49bb-b657-0016f54ad50b",
   "metadata": {},
   "source": [
    "Q2. Write a python program to print the sum and product of the first 10 natural numbers using for and while loop."
   ]
  },
  {
   "cell_type": "markdown",
   "id": "f3854dc4-4bef-4354-94e7-e31404f5ed3b",
   "metadata": {},
   "source": [
    "Ans. To print sum and product of the first 10 natural numbers(1 to 10) using for  loop : "
   ]
  },
  {
   "cell_type": "code",
   "execution_count": 16,
   "id": "7524705d-5425-480e-bee3-878d4307354c",
   "metadata": {},
   "outputs": [
    {
     "name": "stdout",
     "output_type": "stream",
     "text": [
      "Sum of the first 10 natural numbers =  55\n",
      "Product of the first 10 natural numbers = 3628800\n"
     ]
    }
   ],
   "source": [
    "sum_num=0\n",
    "product = 1\n",
    "for i in range(1,11):\n",
    "    sum_num += i\n",
    "    product *= i\n",
    "print(\"Sum of the first 10 natural numbers = \",sum_num)\n",
    "print(\"Product of the first 10 natural numbers =\",product)"
   ]
  },
  {
   "cell_type": "markdown",
   "id": "c7d448fc-1219-4049-9872-8a5f55486093",
   "metadata": {},
   "source": [
    "To print sum and product of the first 10 natural numbers(1 to 10) using while loop :"
   ]
  },
  {
   "cell_type": "code",
   "execution_count": 17,
   "id": "e9fb75fd-4e16-4bd1-919e-acc95142bd4d",
   "metadata": {},
   "outputs": [
    {
     "name": "stdout",
     "output_type": "stream",
     "text": [
      "Sum of the first 10 natural numbers =  55\n",
      "Product of the first 10 natural numbers = 3628800\n"
     ]
    }
   ],
   "source": [
    "count = 1\n",
    "sum_num=0\n",
    "product = 1\n",
    "while count <= 10:\n",
    "    sum_num += count\n",
    "    product *= count\n",
    "    count += 1\n",
    "print(\"Sum of the first 10 natural numbers = \",sum_num)\n",
    "print(\"Product of the first 10 natural numbers =\",product)"
   ]
  },
  {
   "cell_type": "markdown",
   "id": "01373389-e2a9-4393-82ef-1d49731cb14e",
   "metadata": {},
   "source": [
    "Q3. Create a python program to compute the electricity bill for a household.\n",
    "The per-unit charges in rupees are as follows: For the first 100 units, the user will be charged Rs. 4.5 per\n",
    "unit, for the next 100 units, the user will be charged Rs. 6 per unit, and for the next 100 units, the user will\n",
    "be charged Rs. 10 per unit, After 300 units and above the user will be charged Rs. 20 per unit.\n",
    "You are required to take the units of electricity consumed in a month from the user as input.\n",
    "Your program must pass this test case: when the unit of electricity consumed by the user in a month is\n",
    "310, the total electricity bill should be 2250."
   ]
  },
  {
   "cell_type": "markdown",
   "id": "c25703e4-e586-48da-9194-a5c8cf11b941",
   "metadata": {},
   "source": [
    "Ans. We use if and elif and else condition."
   ]
  },
  {
   "cell_type": "code",
   "execution_count": 22,
   "id": "a75571d4-30ef-4c42-8e93-208b1ba8f4a2",
   "metadata": {},
   "outputs": [
    {
     "name": "stdin",
     "output_type": "stream",
     "text": [
      "Enter the units of electricity consumed in a month =  310\n"
     ]
    },
    {
     "name": "stdout",
     "output_type": "stream",
     "text": [
      "the total electricity bill of the user =  2250.0\n"
     ]
    }
   ],
   "source": [
    "unit = int(input(\"Enter the units of electricity consumed in a month = \"))\n",
    "if unit > 0 and unit <= 100 :\n",
    "    bill = unit * 4.5\n",
    "elif unit > 100 and unit <= 200 :\n",
    "    bill = 100 * 4.5 + (unit - 100) * 6\n",
    "elif unit > 200 and unit <= 300 :\n",
    "    bill = 100 * 4.5 + 100 * 6 + (unit - 200) * 10\n",
    "else :\n",
    "    bill = 100 * 4.5 + 100 * 6 + 100 * 10 + (unit - 300) * 20\n",
    "print(\"the total electricity bill of the user = \",bill)"
   ]
  },
  {
   "cell_type": "markdown",
   "id": "86e4ac8c-068b-4fd3-855d-292538e53b60",
   "metadata": {},
   "source": [
    "Q4. Create a list of numbers from 1 to 100. Use for loop and while loop to calculate the cube of each\n",
    "number and if the cube of that number is divisible by 4 or 5 then append that number in a list and print\n",
    "that list."
   ]
  },
  {
   "cell_type": "markdown",
   "id": "01583be5-dd2b-4e23-a77d-1ed07bebb5b5",
   "metadata": {},
   "source": [
    "Ans. Create a list"
   ]
  },
  {
   "cell_type": "code",
   "execution_count": 23,
   "id": "fbc5b61f-4e42-46f6-ad3a-69ae0ee895f2",
   "metadata": {},
   "outputs": [],
   "source": [
    "l = list(range(1,101))"
   ]
  },
  {
   "cell_type": "code",
   "execution_count": 24,
   "id": "61ad9ee4-0865-4e95-a876-017007999d22",
   "metadata": {},
   "outputs": [
    {
     "data": {
      "text/plain": [
       "[1,\n",
       " 2,\n",
       " 3,\n",
       " 4,\n",
       " 5,\n",
       " 6,\n",
       " 7,\n",
       " 8,\n",
       " 9,\n",
       " 10,\n",
       " 11,\n",
       " 12,\n",
       " 13,\n",
       " 14,\n",
       " 15,\n",
       " 16,\n",
       " 17,\n",
       " 18,\n",
       " 19,\n",
       " 20,\n",
       " 21,\n",
       " 22,\n",
       " 23,\n",
       " 24,\n",
       " 25,\n",
       " 26,\n",
       " 27,\n",
       " 28,\n",
       " 29,\n",
       " 30,\n",
       " 31,\n",
       " 32,\n",
       " 33,\n",
       " 34,\n",
       " 35,\n",
       " 36,\n",
       " 37,\n",
       " 38,\n",
       " 39,\n",
       " 40,\n",
       " 41,\n",
       " 42,\n",
       " 43,\n",
       " 44,\n",
       " 45,\n",
       " 46,\n",
       " 47,\n",
       " 48,\n",
       " 49,\n",
       " 50,\n",
       " 51,\n",
       " 52,\n",
       " 53,\n",
       " 54,\n",
       " 55,\n",
       " 56,\n",
       " 57,\n",
       " 58,\n",
       " 59,\n",
       " 60,\n",
       " 61,\n",
       " 62,\n",
       " 63,\n",
       " 64,\n",
       " 65,\n",
       " 66,\n",
       " 67,\n",
       " 68,\n",
       " 69,\n",
       " 70,\n",
       " 71,\n",
       " 72,\n",
       " 73,\n",
       " 74,\n",
       " 75,\n",
       " 76,\n",
       " 77,\n",
       " 78,\n",
       " 79,\n",
       " 80,\n",
       " 81,\n",
       " 82,\n",
       " 83,\n",
       " 84,\n",
       " 85,\n",
       " 86,\n",
       " 87,\n",
       " 88,\n",
       " 89,\n",
       " 90,\n",
       " 91,\n",
       " 92,\n",
       " 93,\n",
       " 94,\n",
       " 95,\n",
       " 96,\n",
       " 97,\n",
       " 98,\n",
       " 99,\n",
       " 100]"
      ]
     },
     "execution_count": 24,
     "metadata": {},
     "output_type": "execute_result"
    }
   ],
   "source": [
    "l"
   ]
  },
  {
   "cell_type": "markdown",
   "id": "67f07a62-5ca0-44a5-81ff-77ce28856061",
   "metadata": {},
   "source": [
    "OR"
   ]
  },
  {
   "cell_type": "code",
   "execution_count": 25,
   "id": "fdea98f4-2067-40d4-9d88-5ce0785b1381",
   "metadata": {},
   "outputs": [],
   "source": [
    "l=[]\n",
    "for i in range(1,101):\n",
    "    l.append(i)"
   ]
  },
  {
   "cell_type": "code",
   "execution_count": 26,
   "id": "e36f6875-f08a-4d9c-865d-765cfeead9df",
   "metadata": {},
   "outputs": [
    {
     "data": {
      "text/plain": [
       "[1,\n",
       " 2,\n",
       " 3,\n",
       " 4,\n",
       " 5,\n",
       " 6,\n",
       " 7,\n",
       " 8,\n",
       " 9,\n",
       " 10,\n",
       " 11,\n",
       " 12,\n",
       " 13,\n",
       " 14,\n",
       " 15,\n",
       " 16,\n",
       " 17,\n",
       " 18,\n",
       " 19,\n",
       " 20,\n",
       " 21,\n",
       " 22,\n",
       " 23,\n",
       " 24,\n",
       " 25,\n",
       " 26,\n",
       " 27,\n",
       " 28,\n",
       " 29,\n",
       " 30,\n",
       " 31,\n",
       " 32,\n",
       " 33,\n",
       " 34,\n",
       " 35,\n",
       " 36,\n",
       " 37,\n",
       " 38,\n",
       " 39,\n",
       " 40,\n",
       " 41,\n",
       " 42,\n",
       " 43,\n",
       " 44,\n",
       " 45,\n",
       " 46,\n",
       " 47,\n",
       " 48,\n",
       " 49,\n",
       " 50,\n",
       " 51,\n",
       " 52,\n",
       " 53,\n",
       " 54,\n",
       " 55,\n",
       " 56,\n",
       " 57,\n",
       " 58,\n",
       " 59,\n",
       " 60,\n",
       " 61,\n",
       " 62,\n",
       " 63,\n",
       " 64,\n",
       " 65,\n",
       " 66,\n",
       " 67,\n",
       " 68,\n",
       " 69,\n",
       " 70,\n",
       " 71,\n",
       " 72,\n",
       " 73,\n",
       " 74,\n",
       " 75,\n",
       " 76,\n",
       " 77,\n",
       " 78,\n",
       " 79,\n",
       " 80,\n",
       " 81,\n",
       " 82,\n",
       " 83,\n",
       " 84,\n",
       " 85,\n",
       " 86,\n",
       " 87,\n",
       " 88,\n",
       " 89,\n",
       " 90,\n",
       " 91,\n",
       " 92,\n",
       " 93,\n",
       " 94,\n",
       " 95,\n",
       " 96,\n",
       " 97,\n",
       " 98,\n",
       " 99,\n",
       " 100]"
      ]
     },
     "execution_count": 26,
     "metadata": {},
     "output_type": "execute_result"
    }
   ],
   "source": [
    "l"
   ]
  },
  {
   "cell_type": "markdown",
   "id": "8e0a0040-0b03-410c-9f0e-42a7acdd178c",
   "metadata": {},
   "source": [
    "To calculate cube using for loop -->"
   ]
  },
  {
   "cell_type": "code",
   "execution_count": 27,
   "id": "fc8ca594-87a9-4146-b479-b8a5cce2b81a",
   "metadata": {},
   "outputs": [],
   "source": [
    "l1 = []\n",
    "for i in l:\n",
    "    l1.append(i*i*i)"
   ]
  },
  {
   "cell_type": "code",
   "execution_count": 28,
   "id": "0d6228a7-a636-472d-ad93-42ca9c7cb707",
   "metadata": {},
   "outputs": [
    {
     "data": {
      "text/plain": [
       "[1,\n",
       " 8,\n",
       " 27,\n",
       " 64,\n",
       " 125,\n",
       " 216,\n",
       " 343,\n",
       " 512,\n",
       " 729,\n",
       " 1000,\n",
       " 1331,\n",
       " 1728,\n",
       " 2197,\n",
       " 2744,\n",
       " 3375,\n",
       " 4096,\n",
       " 4913,\n",
       " 5832,\n",
       " 6859,\n",
       " 8000,\n",
       " 9261,\n",
       " 10648,\n",
       " 12167,\n",
       " 13824,\n",
       " 15625,\n",
       " 17576,\n",
       " 19683,\n",
       " 21952,\n",
       " 24389,\n",
       " 27000,\n",
       " 29791,\n",
       " 32768,\n",
       " 35937,\n",
       " 39304,\n",
       " 42875,\n",
       " 46656,\n",
       " 50653,\n",
       " 54872,\n",
       " 59319,\n",
       " 64000,\n",
       " 68921,\n",
       " 74088,\n",
       " 79507,\n",
       " 85184,\n",
       " 91125,\n",
       " 97336,\n",
       " 103823,\n",
       " 110592,\n",
       " 117649,\n",
       " 125000,\n",
       " 132651,\n",
       " 140608,\n",
       " 148877,\n",
       " 157464,\n",
       " 166375,\n",
       " 175616,\n",
       " 185193,\n",
       " 195112,\n",
       " 205379,\n",
       " 216000,\n",
       " 226981,\n",
       " 238328,\n",
       " 250047,\n",
       " 262144,\n",
       " 274625,\n",
       " 287496,\n",
       " 300763,\n",
       " 314432,\n",
       " 328509,\n",
       " 343000,\n",
       " 357911,\n",
       " 373248,\n",
       " 389017,\n",
       " 405224,\n",
       " 421875,\n",
       " 438976,\n",
       " 456533,\n",
       " 474552,\n",
       " 493039,\n",
       " 512000,\n",
       " 531441,\n",
       " 551368,\n",
       " 571787,\n",
       " 592704,\n",
       " 614125,\n",
       " 636056,\n",
       " 658503,\n",
       " 681472,\n",
       " 704969,\n",
       " 729000,\n",
       " 753571,\n",
       " 778688,\n",
       " 804357,\n",
       " 830584,\n",
       " 857375,\n",
       " 884736,\n",
       " 912673,\n",
       " 941192,\n",
       " 970299,\n",
       " 1000000]"
      ]
     },
     "execution_count": 28,
     "metadata": {},
     "output_type": "execute_result"
    }
   ],
   "source": [
    "l1"
   ]
  },
  {
   "cell_type": "markdown",
   "id": "a753166f-006c-418a-a48d-abd25a326775",
   "metadata": {},
   "source": [
    "To calculate cube using while loop -->"
   ]
  },
  {
   "cell_type": "code",
   "execution_count": 29,
   "id": "826a5814-0616-481b-b236-75597a826db0",
   "metadata": {},
   "outputs": [],
   "source": [
    "l2 = []\n",
    "i=1\n",
    "while i <= 100:\n",
    "    l2.append(i*i*i)\n",
    "    i +=1"
   ]
  },
  {
   "cell_type": "code",
   "execution_count": 30,
   "id": "e1c73115-8933-421e-a395-788f5e02471f",
   "metadata": {},
   "outputs": [
    {
     "data": {
      "text/plain": [
       "[1,\n",
       " 8,\n",
       " 27,\n",
       " 64,\n",
       " 125,\n",
       " 216,\n",
       " 343,\n",
       " 512,\n",
       " 729,\n",
       " 1000,\n",
       " 1331,\n",
       " 1728,\n",
       " 2197,\n",
       " 2744,\n",
       " 3375,\n",
       " 4096,\n",
       " 4913,\n",
       " 5832,\n",
       " 6859,\n",
       " 8000,\n",
       " 9261,\n",
       " 10648,\n",
       " 12167,\n",
       " 13824,\n",
       " 15625,\n",
       " 17576,\n",
       " 19683,\n",
       " 21952,\n",
       " 24389,\n",
       " 27000,\n",
       " 29791,\n",
       " 32768,\n",
       " 35937,\n",
       " 39304,\n",
       " 42875,\n",
       " 46656,\n",
       " 50653,\n",
       " 54872,\n",
       " 59319,\n",
       " 64000,\n",
       " 68921,\n",
       " 74088,\n",
       " 79507,\n",
       " 85184,\n",
       " 91125,\n",
       " 97336,\n",
       " 103823,\n",
       " 110592,\n",
       " 117649,\n",
       " 125000,\n",
       " 132651,\n",
       " 140608,\n",
       " 148877,\n",
       " 157464,\n",
       " 166375,\n",
       " 175616,\n",
       " 185193,\n",
       " 195112,\n",
       " 205379,\n",
       " 216000,\n",
       " 226981,\n",
       " 238328,\n",
       " 250047,\n",
       " 262144,\n",
       " 274625,\n",
       " 287496,\n",
       " 300763,\n",
       " 314432,\n",
       " 328509,\n",
       " 343000,\n",
       " 357911,\n",
       " 373248,\n",
       " 389017,\n",
       " 405224,\n",
       " 421875,\n",
       " 438976,\n",
       " 456533,\n",
       " 474552,\n",
       " 493039,\n",
       " 512000,\n",
       " 531441,\n",
       " 551368,\n",
       " 571787,\n",
       " 592704,\n",
       " 614125,\n",
       " 636056,\n",
       " 658503,\n",
       " 681472,\n",
       " 704969,\n",
       " 729000,\n",
       " 753571,\n",
       " 778688,\n",
       " 804357,\n",
       " 830584,\n",
       " 857375,\n",
       " 884736,\n",
       " 912673,\n",
       " 941192,\n",
       " 970299,\n",
       " 1000000]"
      ]
     },
     "execution_count": 30,
     "metadata": {},
     "output_type": "execute_result"
    }
   ],
   "source": [
    "l2"
   ]
  },
  {
   "cell_type": "markdown",
   "id": "eafc7946-df78-4230-9b12-2d65540f3436",
   "metadata": {},
   "source": [
    " the cube of that number is divisible by 4 or 5 then append that number in a list and print that list."
   ]
  },
  {
   "cell_type": "code",
   "execution_count": 31,
   "id": "c01b00f3-01f6-4a84-b484-cf8f6c74ccab",
   "metadata": {},
   "outputs": [],
   "source": [
    "l3=[]\n",
    "lenght = len(l2)\n",
    "i=1\n",
    "n=0\n",
    "while n < length :\n",
    "    if l2[n] % 4 == 0 or l2[n] % 5 == 0 :\n",
    "        l3.append( l[n] )\n",
    "        n += 1\n",
    "    else :\n",
    "        n += 1"
   ]
  },
  {
   "cell_type": "code",
   "execution_count": 32,
   "id": "226f304b-2294-449a-bd51-d53719b3a4a8",
   "metadata": {},
   "outputs": [
    {
     "data": {
      "text/plain": [
       "[2,\n",
       " 4,\n",
       " 5,\n",
       " 6,\n",
       " 8,\n",
       " 10,\n",
       " 12,\n",
       " 14,\n",
       " 15,\n",
       " 16,\n",
       " 18,\n",
       " 20,\n",
       " 22,\n",
       " 24,\n",
       " 25,\n",
       " 26,\n",
       " 28,\n",
       " 30,\n",
       " 32,\n",
       " 34,\n",
       " 35,\n",
       " 36,\n",
       " 38,\n",
       " 40,\n",
       " 42,\n",
       " 44,\n",
       " 45,\n",
       " 46,\n",
       " 48,\n",
       " 50,\n",
       " 52,\n",
       " 54,\n",
       " 55,\n",
       " 56,\n",
       " 58,\n",
       " 60,\n",
       " 62,\n",
       " 64,\n",
       " 65,\n",
       " 66,\n",
       " 68,\n",
       " 70,\n",
       " 72,\n",
       " 74,\n",
       " 75,\n",
       " 76,\n",
       " 78,\n",
       " 80,\n",
       " 82,\n",
       " 84,\n",
       " 85,\n",
       " 86,\n",
       " 88,\n",
       " 90,\n",
       " 92,\n",
       " 94,\n",
       " 95,\n",
       " 96,\n",
       " 98,\n",
       " 100]"
      ]
     },
     "execution_count": 32,
     "metadata": {},
     "output_type": "execute_result"
    }
   ],
   "source": [
    "l3"
   ]
  },
  {
   "cell_type": "markdown",
   "id": "a4b646bd-852b-406b-8778-6acb7b70a6b2",
   "metadata": {},
   "source": [
    "Q5. Write a program to filter count vowels in the below-given string.\n",
    "    string = \"I want to become a data scientist\""
   ]
  },
  {
   "cell_type": "markdown",
   "id": "8892486f-480a-45e5-8688-ad7f822693c2",
   "metadata": {},
   "source": [
    "Ans."
   ]
  },
  {
   "cell_type": "code",
   "execution_count": 45,
   "id": "40f74c9b-4a5f-4cbf-9cd5-ae4cc7bad637",
   "metadata": {},
   "outputs": [
    {
     "name": "stdout",
     "output_type": "stream",
     "text": [
      "The number of vowels in string is =  12\n"
     ]
    }
   ],
   "source": [
    "s = \"I want to become a data scientist\"\n",
    "s = s.lower()\n",
    "l = [\"a\",\"e\",\"i\",\"o\",\"u\"]\n",
    "l1=[]\n",
    "count = 0 \n",
    "for i in s :\n",
    "    if i in l :\n",
    "        l1.append(i)\n",
    "        count += 1\n",
    "print(\"The number of vowels in string is = \", count)"
   ]
  },
  {
   "cell_type": "code",
   "execution_count": 46,
   "id": "b758d7d5-1b7a-4b13-a230-d3a61d6f810c",
   "metadata": {},
   "outputs": [
    {
     "data": {
      "text/plain": [
       "['i', 'a', 'o', 'e', 'o', 'e', 'a', 'a', 'a', 'i', 'e', 'i']"
      ]
     },
     "execution_count": 46,
     "metadata": {},
     "output_type": "execute_result"
    }
   ],
   "source": [
    "l1"
   ]
  }
 ],
 "metadata": {
  "kernelspec": {
   "display_name": "Python 3 (ipykernel)",
   "language": "python",
   "name": "python3"
  },
  "language_info": {
   "codemirror_mode": {
    "name": "ipython",
    "version": 3
   },
   "file_extension": ".py",
   "mimetype": "text/x-python",
   "name": "python",
   "nbconvert_exporter": "python",
   "pygments_lexer": "ipython3",
   "version": "3.10.8"
  }
 },
 "nbformat": 4,
 "nbformat_minor": 5
}
